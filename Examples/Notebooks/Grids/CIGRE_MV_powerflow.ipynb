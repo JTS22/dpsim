{
 "cells": [
  {
   "cell_type": "markdown",
   "metadata": {},
   "source": [
    "# CIGRE MV Powerflow Solver Test"
   ]
  },
  {
   "cell_type": "markdown",
   "metadata": {},
   "source": [
    "## Run simulation"
   ]
  },
  {
   "cell_type": "code",
   "execution_count": null,
   "metadata": {},
   "outputs": [],
   "source": [
    "%%bash\n",
    "TOP=${TOP:-$(git rev-parse --show-toplevel)}\n",
    "PATH=${TOP}/build/Examples/Cxx\n",
    "\n",
    "CIGRE_MV_PowerFlowTest ${TOP}/build/_deps/cim-data-src/CIGRE_MV/NEPLAN/CIGRE_MV_no_tapchanger_With_LoadFlow_Results/*.xml"
   ]
  },
  {
   "cell_type": "code",
   "execution_count": null,
   "metadata": {},
   "outputs": [],
   "source": [
    "from villas.dataprocessing.readtools import *\n",
    "from villas.dataprocessing.timeseries import *\n",
    "import villas.dataprocessing.validationtools as validationtools\n",
    "import os\n",
    "import urllib.request"
   ]
  },
  {
   "cell_type": "markdown",
   "metadata": {},
   "source": [
    "## Read DPsim results"
   ]
  },
  {
   "cell_type": "code",
   "execution_count": null,
   "metadata": {},
   "outputs": [],
   "source": [
    "path = 'logs/'\n",
    "logName = 'CIGRE-MV-NoTap'\n",
    "dpsim_result_file = path + logName + '.csv'\n",
    "\n",
    "ts_dpsim = read_timeseries_csv(dpsim_result_file)\n",
    "\n",
    "# Fix for dpsim naming - TODO: unify dpsim notation in log file and update villas-dataprocessing accordingly\n",
    "for ts,values in ts_dpsim.items():\n",
    "    values.name = values.name[:-2]"
   ]
  },
  {
   "cell_type": "markdown",
   "metadata": {},
   "source": [
    "## Read NEPLAN results as reference"
   ]
  },
  {
   "cell_type": "code",
   "execution_count": null,
   "metadata": {},
   "outputs": [],
   "source": [
    "if not os.path.exists('reference-results'):\n",
    "    os.mkdir('reference-results')\n",
    "\n",
    "url = 'https://git.rwth-aachen.de/acs/public/simulation/reference-results/raw/master/Neplan/ReferenceGrids/CIGRE_MV.rlf'\n",
    "neplan_result_file = 'reference-results/CIGRE_MV.rlf'\n",
    "urllib.request.urlretrieve(url, neplan_result_file) \n",
    "print(neplan_result_file)\n",
    "\n",
    "ts_NEPLAN = read_timeseries_NEPLAN_loadflow(neplan_result_file)\n",
    "#print([ts_NEPLAN[i].name for i in range(len(ts_NEPLAN))])"
   ]
  },
  {
   "cell_type": "markdown",
   "metadata": {},
   "source": [
    "## Comparison and assertion of results"
   ]
  },
  {
   "cell_type": "code",
   "execution_count": null,
   "metadata": {},
   "outputs": [],
   "source": [
    "net_name='CIGRE_MV_NoTap'\n",
    "threshold=0.5\n",
    "\n",
    "ts_NEPLAN_standardized=validationtools.convert_neplan_to_standard_timeseries(ts_NEPLAN)\n",
    "#print([ts_NEPLAN_standardized[i].name for i in range(len(ts_NEPLAN_standardized))])\n",
    "ts_dpsim_standardized=validationtools.convert_dpsim_to_standard_timeseries(ts_dpsim)\n",
    "#print([ts_dpsim_standardized[i].name for i in range(len(ts_dpsim_standardized))])\n",
    "res_err=validationtools.compare_timeseries(ts_NEPLAN_standardized,ts_dpsim_standardized)\n",
    "validationtools.assert_modelica_results(net_name,res_err,threshold)"
   ]
  },
  {
   "cell_type": "code",
   "execution_count": null,
   "metadata": {},
   "outputs": [],
   "source": []
  }
 ],
 "metadata": {
  "kernelspec": {
   "display_name": "Python 3",
   "language": "python",
   "name": "python3"
  },
  "language_info": {
   "codemirror_mode": {
    "name": "ipython",
    "version": 3
   },
   "file_extension": ".py",
   "mimetype": "text/x-python",
   "name": "python",
   "nbconvert_exporter": "python",
   "pygments_lexer": "ipython3",
   "version": "3.7.5"
  },
  "tests": {
    "skip": true
   }
 },
 "nbformat": 4,
 "nbformat_minor": 4
}
